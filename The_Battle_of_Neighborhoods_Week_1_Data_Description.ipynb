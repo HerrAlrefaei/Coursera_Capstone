{
 "cells": [
  {
   "cell_type": "markdown",
   "metadata": {},
   "source": [
    "# TiTle: Take Care of The Human Safety"
   ]
  },
  {
   "cell_type": "markdown",
   "metadata": {},
   "source": [
    "## 2. A description of the data and how it will be used to solve the problem."
   ]
  },
  {
   "cell_type": "markdown",
   "metadata": {},
   "source": [
    "#### Locations: \"S-Bahn\" Data was found from Internet and downloaded into Excel file name \"Munich_Stations_LL.xlsx\". We have got that from https://en.wikipedia.org/wiki/Altenerding_station\n",
    "    \n",
    "#### Target: In the reguler case we would get the target as soon as it noticed or informed.\n",
    "    A protected server must be updated regularly with the (ID, Category and actual places of all policemen)\n",
    "    Once it needed, an API connection must be called to fetch the data from outside database.\n",
    "    This would provide a list of policemen who are located around the target in surrounding area.\n",
    "    let's assume in our case it is in 1 kilometer.\n",
    "    \n",
    "#### Closest Pharmacy: Once the previous data collected, we can use FOURSQUARE to fetch another type of data which is detecting the closest Pharmacy. \n",
    "    This Pharmacy location data would be the latitude and the longitude of this location.\n",
    "    This program should detect this Information.\n",
    "    This detected information should be sent directly to the Police-man.\n",
    "    (In this case the suggested communication method is as SMS)."
   ]
  }
 ],
 "metadata": {
  "kernelspec": {
   "display_name": "Python 3",
   "language": "python",
   "name": "python3"
  },
  "language_info": {
   "codemirror_mode": {
    "name": "ipython",
    "version": 3
   },
   "file_extension": ".py",
   "mimetype": "text/x-python",
   "name": "python",
   "nbconvert_exporter": "python",
   "pygments_lexer": "ipython3",
   "version": "3.7.3"
  }
 },
 "nbformat": 4,
 "nbformat_minor": 2
}
