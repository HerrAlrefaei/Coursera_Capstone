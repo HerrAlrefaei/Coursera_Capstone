{
 "cells": [
  {
   "cell_type": "markdown",
   "metadata": {},
   "source": [
    "# TiTle: Take Care of The Human Safety"
   ]
  },
  {
   "cell_type": "markdown",
   "metadata": {},
   "source": [
    "## 1. A description of the problem and a discussion of the background:"
   ]
  },
  {
   "cell_type": "markdown",
   "metadata": {},
   "source": [
    "## Introduction/Business Problem:"
   ]
  },
  {
   "cell_type": "markdown",
   "metadata": {},
   "source": [
    "#### We are living in a fast world, fast upgrades and fast actions. In this deligma a fast respond sometimes is as important as it is a life or death situation. In many cases, It is a must to cope up with whatever problem or risk occurred as fast as possible to avoid unnecessary lost.\n",
    "\n",
    "#### My thesis here as a person who is living in Munich disscuss the following question: How can we prevent a bigger damage before it happens in few second ago?  Or in other words, How can we mitigate a risk or even void it by enhancing the time resource?\n",
    "\n",
    "#### Terrorist attacks is rarely to happen however, the bad thing happen. Moreover, once it happens, it affects a lot. So lets play and use little of Data Science to come up with a predicted solution to see how can we use applied Data Science with such issues. \n",
    "\n",
    "#### We would need first to specify four stakeholders, it is like football. There is the Attacker, there is the Defender, the Paramedic in the back and the Stadium. In our case, it would be the Target, the professional Police-man, the Location and the closest Pharmacy. \n",
    "\n",
    "#### To simulate this senario in a real life example, we would need Data! The follwoing Data is what we need to establish the study:\n",
    "    \n",
    "    Locations: In our case this would be presented by all the city rapid railways \"S-Bahn\" that located in munich city (M) and all the outside \"S-Bahn\" of Munich city from ring (1-6)\n",
    "    \n",
    "    Target: In this study a target would be specified as one item from \"S-Bahn\" group. In other words, we must be informed at the moment in advance What is the Station name which is targeted? and then run the program.\n",
    "    \n",
    "    Police-man: in this study we would need information of all the active Policemen in the surrounding area. As this Data is privet, I will build a fake data-set containing the longitude, latitude, Agent ID, and number of this stakeholder category. This is useful in upgrade senarios of the programm as we are adding more useful cases based on the category that matches the risk priority.\n",
    "    \n",
    "    Pharmacy: All chosen Policemen for the specific task should have known already the closest Pharmacy to them in case something unusual happened.\n",
    "    \n",
    "    \n",
    "    \n",
    "#### Putting in mind that this little product is only a basic of a study that can be way larger including for examples all underground stations or bus stations or categorized the Police-man or Risk priority or even to specify more targeted unexpected locations."
   ]
  },
  {
   "cell_type": "markdown",
   "metadata": {},
   "source": [
    "### Who would be interrested in this study (the audience)? and why they would care about your problem?\n",
    "\n",
    "#### All the security organizations in the German country which might be concerned with the security and protection of citizens and state enterprises."
   ]
  }
 ],
 "metadata": {
  "kernelspec": {
   "display_name": "Python 3",
   "language": "python",
   "name": "python3"
  },
  "language_info": {
   "codemirror_mode": {
    "name": "ipython",
    "version": 3
   },
   "file_extension": ".py",
   "mimetype": "text/x-python",
   "name": "python",
   "nbconvert_exporter": "python",
   "pygments_lexer": "ipython3",
   "version": "3.7.3"
  }
 },
 "nbformat": 4,
 "nbformat_minor": 2
}
